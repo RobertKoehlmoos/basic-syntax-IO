{
 "cells": [
  {
   "cell_type": "markdown",
   "id": "bulgarian-spain",
   "metadata": {},
   "source": [
    "### Basics of Input and Output"
   ]
  },
  {
   "cell_type": "markdown",
   "id": "funded-sarah",
   "metadata": {},
   "source": [
    "The most common way to output values in Python is using the `print` function\n",
    "If the function is given a string, that string is printed to the console output, appearing below the line where it was run"
   ]
  },
  {
   "cell_type": "code",
   "execution_count": 1,
   "id": "mexican-opening",
   "metadata": {},
   "outputs": [
    {
     "name": "stdout",
     "output_type": "stream",
     "text": [
      "Hello everybody!\n"
     ]
    }
   ],
   "source": [
    "print(\"Hello everybody!\")"
   ]
  }
 ],
 "metadata": {
  "kernelspec": {
   "display_name": "Python 3",
   "language": "python",
   "name": "python3"
  },
  "language_info": {
   "codemirror_mode": {
    "name": "ipython",
    "version": 3
   },
   "file_extension": ".py",
   "mimetype": "text/x-python",
   "name": "python",
   "nbconvert_exporter": "python",
   "pygments_lexer": "ipython3",
   "version": "3.7.9"
  }
 },
 "nbformat": 4,
 "nbformat_minor": 5
}
